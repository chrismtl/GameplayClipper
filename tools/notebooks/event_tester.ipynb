{
 "cells": [
  {
   "cell_type": "code",
   "execution_count": 19,
   "id": "43205ace",
   "metadata": {},
   "outputs": [],
   "source": [
    "import pandas as pd\n",
    "import numpy as np\n",
    "import matplotlib.pyplot as plt"
   ]
  },
  {
   "cell_type": "code",
   "execution_count": 20,
   "id": "98499342",
   "metadata": {},
   "outputs": [
    {
     "data": {
      "application/vnd.microsoft.datawrangler.viewer.v0+json": {
       "columns": [
        {
         "name": "index",
         "rawType": "int64",
         "type": "integer"
        },
        {
         "name": "game",
         "rawType": "object",
         "type": "string"
        },
        {
         "name": "event",
         "rawType": "object",
         "type": "string"
        },
        {
         "name": "timestamp",
         "rawType": "object",
         "type": "string"
        },
        {
         "name": "confidence",
         "rawType": "float64",
         "type": "float"
        },
        {
         "name": "video",
         "rawType": "object",
         "type": "string"
        }
       ],
       "ref": "ed5e0471-9d78-426f-9c81-0c348254d082",
       "rows": [
        [
         "0",
         "bf2",
         "kill_brc",
         "00:01:46:00",
         "0.928",
         "Jakku"
        ],
        [
         "1",
         "bf2",
         "kill_brc",
         "00:01:46:02",
         "0.946",
         "Jakku"
        ],
        [
         "2",
         "bf2",
         "kill_brc",
         "00:01:46:04",
         "0.934",
         "Jakku"
        ],
        [
         "3",
         "bf2",
         "kill_brc",
         "00:01:46:06",
         "0.965",
         "Jakku"
        ],
        [
         "4",
         "bf2",
         "kill_brc",
         "00:01:46:08",
         "0.971",
         "Jakku"
        ],
        [
         "5",
         "bf2",
         "kill_brc",
         "00:01:46:10",
         "0.968",
         "Jakku"
        ],
        [
         "6",
         "bf2",
         "kill_brc",
         "00:01:46:12",
         "0.973",
         "Jakku"
        ],
        [
         "7",
         "bf2",
         "kill_brc",
         "00:01:46:14",
         "0.971",
         "Jakku"
        ],
        [
         "8",
         "bf2",
         "kill_brc",
         "00:01:46:16",
         "0.961",
         "Jakku"
        ],
        [
         "9",
         "bf2",
         "kill_brc",
         "00:01:46:18",
         "0.962",
         "Jakku"
        ],
        [
         "10",
         "bf2",
         "kill_brc",
         "00:01:46:20",
         "0.962",
         "Jakku"
        ],
        [
         "11",
         "bf2",
         "kill_brc",
         "00:01:46:22",
         "0.96",
         "Jakku"
        ],
        [
         "12",
         "bf2",
         "kill_brc",
         "00:01:46:24",
         "0.963",
         "Jakku"
        ],
        [
         "13",
         "bf2",
         "kill_brc",
         "00:01:46:26",
         "0.968",
         "Jakku"
        ],
        [
         "14",
         "bf2",
         "kill_brc",
         "00:01:46:28",
         "0.969",
         "Jakku"
        ],
        [
         "15",
         "bf2",
         "kill_brc",
         "00:01:47:00",
         "0.96",
         "Jakku"
        ],
        [
         "16",
         "bf2",
         "kill_brc",
         "00:01:47:02",
         "0.96",
         "Jakku"
        ],
        [
         "17",
         "bf2",
         "kill_brc",
         "00:01:47:04",
         "0.968",
         "Jakku"
        ],
        [
         "18",
         "bf2",
         "kill_brc",
         "00:01:47:06",
         "0.967",
         "Jakku"
        ],
        [
         "19",
         "bf2",
         "kill_brc",
         "00:01:47:08",
         "0.957",
         "Jakku"
        ],
        [
         "20",
         "bf2",
         "kill_brc",
         "00:01:47:10",
         "0.966",
         "Jakku"
        ],
        [
         "21",
         "bf2",
         "kill_brc",
         "00:01:47:12",
         "0.965",
         "Jakku"
        ],
        [
         "22",
         "bf2",
         "kill_brc",
         "00:01:47:14",
         "0.961",
         "Jakku"
        ],
        [
         "23",
         "bf2",
         "kill_brc",
         "00:01:47:16",
         "0.963",
         "Jakku"
        ],
        [
         "24",
         "bf2",
         "kill_brc",
         "00:01:47:18",
         "0.948",
         "Jakku"
        ],
        [
         "25",
         "bf2",
         "kill_brc",
         "00:01:47:20",
         "0.955",
         "Jakku"
        ],
        [
         "26",
         "bf2",
         "kill_brc",
         "00:01:47:22",
         "0.96",
         "Jakku"
        ],
        [
         "27",
         "bf2",
         "kill_brc",
         "00:01:47:24",
         "0.97",
         "Jakku"
        ],
        [
         "28",
         "bf2",
         "kill_brc",
         "00:01:47:26",
         "0.961",
         "Jakku"
        ],
        [
         "29",
         "bf2",
         "kill_brc",
         "00:01:47:28",
         "0.965",
         "Jakku"
        ],
        [
         "30",
         "bf2",
         "kill_brc",
         "00:01:48:00",
         "0.958",
         "Jakku"
        ],
        [
         "31",
         "bf2",
         "kill_brc",
         "00:01:48:02",
         "0.967",
         "Jakku"
        ],
        [
         "32",
         "bf2",
         "kill_brc",
         "00:01:48:04",
         "0.975",
         "Jakku"
        ],
        [
         "33",
         "bf2",
         "kill_brc",
         "00:01:48:06",
         "0.974",
         "Jakku"
        ],
        [
         "34",
         "bf2",
         "kill_brc",
         "00:01:48:08",
         "0.962",
         "Jakku"
        ],
        [
         "35",
         "bf2",
         "kill_brc",
         "00:01:48:10",
         "0.963",
         "Jakku"
        ],
        [
         "36",
         "bf2",
         "kill_brc",
         "00:01:48:12",
         "0.974",
         "Jakku"
        ],
        [
         "37",
         "bf2",
         "kill_brc",
         "00:01:48:14",
         "0.973",
         "Jakku"
        ],
        [
         "38",
         "bf2",
         "kill_brc",
         "00:01:48:16",
         "0.968",
         "Jakku"
        ],
        [
         "39",
         "bf2",
         "kill_brc",
         "00:01:48:18",
         "0.972",
         "Jakku"
        ],
        [
         "40",
         "bf2",
         "kill_brc",
         "00:01:48:20",
         "0.975",
         "Jakku"
        ],
        [
         "41",
         "bf2",
         "kill_brc",
         "00:01:48:22",
         "0.974",
         "Jakku"
        ],
        [
         "42",
         "bf2",
         "kill_brc",
         "00:01:48:24",
         "0.973",
         "Jakku"
        ],
        [
         "43",
         "bf2",
         "kill_brc",
         "00:01:48:26",
         "0.973",
         "Jakku"
        ],
        [
         "44",
         "bf2",
         "kill_brc",
         "00:01:48:28",
         "0.973",
         "Jakku"
        ],
        [
         "45",
         "bf2",
         "kill_brc",
         "00:01:49:00",
         "0.968",
         "Jakku"
        ],
        [
         "46",
         "bf2",
         "kill_brc",
         "00:01:49:02",
         "0.969",
         "Jakku"
        ],
        [
         "47",
         "bf2",
         "kill_brc",
         "00:01:49:04",
         "0.97",
         "Jakku"
        ],
        [
         "48",
         "bf2",
         "kill_brc",
         "00:01:49:06",
         "0.97",
         "Jakku"
        ],
        [
         "49",
         "bf2",
         "kill_brc",
         "00:01:49:08",
         "0.972",
         "Jakku"
        ]
       ],
       "shape": {
        "columns": 5,
        "rows": 18751
       }
      },
      "text/html": [
       "<div>\n",
       "<style scoped>\n",
       "    .dataframe tbody tr th:only-of-type {\n",
       "        vertical-align: middle;\n",
       "    }\n",
       "\n",
       "    .dataframe tbody tr th {\n",
       "        vertical-align: top;\n",
       "    }\n",
       "\n",
       "    .dataframe thead th {\n",
       "        text-align: right;\n",
       "    }\n",
       "</style>\n",
       "<table border=\"1\" class=\"dataframe\">\n",
       "  <thead>\n",
       "    <tr style=\"text-align: right;\">\n",
       "      <th></th>\n",
       "      <th>game</th>\n",
       "      <th>event</th>\n",
       "      <th>timestamp</th>\n",
       "      <th>confidence</th>\n",
       "      <th>video</th>\n",
       "    </tr>\n",
       "  </thead>\n",
       "  <tbody>\n",
       "    <tr>\n",
       "      <th>0</th>\n",
       "      <td>bf2</td>\n",
       "      <td>kill_brc</td>\n",
       "      <td>00:01:46:00</td>\n",
       "      <td>0.928</td>\n",
       "      <td>Jakku</td>\n",
       "    </tr>\n",
       "    <tr>\n",
       "      <th>1</th>\n",
       "      <td>bf2</td>\n",
       "      <td>kill_brc</td>\n",
       "      <td>00:01:46:02</td>\n",
       "      <td>0.946</td>\n",
       "      <td>Jakku</td>\n",
       "    </tr>\n",
       "    <tr>\n",
       "      <th>2</th>\n",
       "      <td>bf2</td>\n",
       "      <td>kill_brc</td>\n",
       "      <td>00:01:46:04</td>\n",
       "      <td>0.934</td>\n",
       "      <td>Jakku</td>\n",
       "    </tr>\n",
       "    <tr>\n",
       "      <th>3</th>\n",
       "      <td>bf2</td>\n",
       "      <td>kill_brc</td>\n",
       "      <td>00:01:46:06</td>\n",
       "      <td>0.965</td>\n",
       "      <td>Jakku</td>\n",
       "    </tr>\n",
       "    <tr>\n",
       "      <th>4</th>\n",
       "      <td>bf2</td>\n",
       "      <td>kill_brc</td>\n",
       "      <td>00:01:46:08</td>\n",
       "      <td>0.971</td>\n",
       "      <td>Jakku</td>\n",
       "    </tr>\n",
       "    <tr>\n",
       "      <th>...</th>\n",
       "      <td>...</td>\n",
       "      <td>...</td>\n",
       "      <td>...</td>\n",
       "      <td>...</td>\n",
       "      <td>...</td>\n",
       "    </tr>\n",
       "    <tr>\n",
       "      <th>18746</th>\n",
       "      <td>bf2</td>\n",
       "      <td>kill_brc</td>\n",
       "      <td>00:27:07:19</td>\n",
       "      <td>0.907</td>\n",
       "      <td>Jakku</td>\n",
       "    </tr>\n",
       "    <tr>\n",
       "      <th>18747</th>\n",
       "      <td>bf2</td>\n",
       "      <td>kill_brc</td>\n",
       "      <td>00:27:07:21</td>\n",
       "      <td>0.907</td>\n",
       "      <td>Jakku</td>\n",
       "    </tr>\n",
       "    <tr>\n",
       "      <th>18748</th>\n",
       "      <td>bf2</td>\n",
       "      <td>kill_brc</td>\n",
       "      <td>00:27:07:23</td>\n",
       "      <td>0.907</td>\n",
       "      <td>Jakku</td>\n",
       "    </tr>\n",
       "    <tr>\n",
       "      <th>18749</th>\n",
       "      <td>bf2</td>\n",
       "      <td>kill_brc</td>\n",
       "      <td>00:27:07:25</td>\n",
       "      <td>0.907</td>\n",
       "      <td>Jakku</td>\n",
       "    </tr>\n",
       "    <tr>\n",
       "      <th>18750</th>\n",
       "      <td>bf2</td>\n",
       "      <td>kill_brc</td>\n",
       "      <td>00:27:07:27</td>\n",
       "      <td>0.907</td>\n",
       "      <td>Jakku</td>\n",
       "    </tr>\n",
       "  </tbody>\n",
       "</table>\n",
       "<p>18751 rows × 5 columns</p>\n",
       "</div>"
      ],
      "text/plain": [
       "      game     event    timestamp  confidence  video\n",
       "0      bf2  kill_brc  00:01:46:00       0.928  Jakku\n",
       "1      bf2  kill_brc  00:01:46:02       0.946  Jakku\n",
       "2      bf2  kill_brc  00:01:46:04       0.934  Jakku\n",
       "3      bf2  kill_brc  00:01:46:06       0.965  Jakku\n",
       "4      bf2  kill_brc  00:01:46:08       0.971  Jakku\n",
       "...    ...       ...          ...         ...    ...\n",
       "18746  bf2  kill_brc  00:27:07:19       0.907  Jakku\n",
       "18747  bf2  kill_brc  00:27:07:21       0.907  Jakku\n",
       "18748  bf2  kill_brc  00:27:07:23       0.907  Jakku\n",
       "18749  bf2  kill_brc  00:27:07:25       0.907  Jakku\n",
       "18750  bf2  kill_brc  00:27:07:27       0.907  Jakku\n",
       "\n",
       "[18751 rows x 5 columns]"
      ]
     },
     "execution_count": 20,
     "metadata": {},
     "output_type": "execute_result"
    }
   ],
   "source": [
    "import pandas as pd\n",
    "df = pd.read_csv(\"../data/out/dataframes/Jakku.csv\")\n",
    "df"
   ]
  },
  {
   "cell_type": "code",
   "execution_count": 22,
   "id": "82cce2d2",
   "metadata": {},
   "outputs": [
    {
     "data": {
      "text/plain": [
       "<Axes: title={'center': 'Confidence Count per Threshold'}, xlabel='Threshold'>"
      ]
     },
     "execution_count": 22,
     "metadata": {},
     "output_type": "execute_result"
    },
    {
     "data": {
      "image/png": "[encoded data removed]",
      "text/plain": [
       "<Figure size 640x480 with 1 Axes>"
      ]
     },
     "metadata": {},
     "output_type": "display_data"
    }
   ],
   "source": [
    "thresholds = [round(t, 2) for t in np.arange(0.90, 1.01, 0.01)]\n",
    "counts = {t: (df['confidence'] >= t).sum() for t in thresholds}\n",
    "\n",
    "# Display as DataFrame\n",
    "threshold_df = pd.DataFrame(list(counts.items()), columns=['Threshold', 'Count'])\n",
    "threshold_df.plot(x='Threshold', y='Count', marker='o', title='Confidence Count per Threshold')"
   ]
  },
  {
   "cell_type": "code",
   "execution_count": 23,
   "id": "c1edef45",
   "metadata": {},
   "outputs": [
    {
     "data": {
      "application/vnd.microsoft.datawrangler.viewer.v0+json": {
       "columns": [
        {
         "name": "index",
         "rawType": "int64",
         "type": "integer"
        },
        {
         "name": "Threshold",
         "rawType": "float64",
         "type": "float"
        },
        {
         "name": "Count",
         "rawType": "int64",
         "type": "integer"
        }
       ],
       "ref": "b875870a-df87-4a4b-bd55-b1f175577f73",
       "rows": [
        [
         "0",
         "0.9",
         "18751"
        ],
        [
         "1",
         "0.91",
         "16236"
        ],
        [
         "2",
         "0.92",
         "13523"
        ],
        [
         "3",
         "0.93",
         "11480"
        ],
        [
         "4",
         "0.94",
         "9362"
        ],
        [
         "5",
         "0.95",
         "7314"
        ],
        [
         "6",
         "0.96",
         "5075"
        ],
        [
         "7",
         "0.97",
         "2222"
        ],
        [
         "8",
         "0.98",
         "400"
        ],
        [
         "9",
         "0.99",
         "29"
        ],
        [
         "10",
         "1.0",
         "0"
        ]
       ],
       "shape": {
        "columns": 2,
        "rows": 11
       }
      },
      "text/html": [
       "<div>\n",
       "<style scoped>\n",
       "    .dataframe tbody tr th:only-of-type {\n",
       "        vertical-align: middle;\n",
       "    }\n",
       "\n",
       "    .dataframe tbody tr th {\n",
       "        vertical-align: top;\n",
       "    }\n",
       "\n",
       "    .dataframe thead th {\n",
       "        text-align: right;\n",
       "    }\n",
       "</style>\n",
       "<table border=\"1\" class=\"dataframe\">\n",
       "  <thead>\n",
       "    <tr style=\"text-align: right;\">\n",
       "      <th></th>\n",
       "      <th>Threshold</th>\n",
       "      <th>Count</th>\n",
       "    </tr>\n",
       "  </thead>\n",
       "  <tbody>\n",
       "    <tr>\n",
       "      <th>0</th>\n",
       "      <td>0.90</td>\n",
       "      <td>18751</td>\n",
       "    </tr>\n",
       "    <tr>\n",
       "      <th>1</th>\n",
       "      <td>0.91</td>\n",
       "      <td>16236</td>\n",
       "    </tr>\n",
       "    <tr>\n",
       "      <th>2</th>\n",
       "      <td>0.92</td>\n",
       "      <td>13523</td>\n",
       "    </tr>\n",
       "    <tr>\n",
       "      <th>3</th>\n",
       "      <td>0.93</td>\n",
       "      <td>11480</td>\n",
       "    </tr>\n",
       "    <tr>\n",
       "      <th>4</th>\n",
       "      <td>0.94</td>\n",
       "      <td>9362</td>\n",
       "    </tr>\n",
       "    <tr>\n",
       "      <th>5</th>\n",
       "      <td>0.95</td>\n",
       "      <td>7314</td>\n",
       "    </tr>\n",
       "    <tr>\n",
       "      <th>6</th>\n",
       "      <td>0.96</td>\n",
       "      <td>5075</td>\n",
       "    </tr>\n",
       "    <tr>\n",
       "      <th>7</th>\n",
       "      <td>0.97</td>\n",
       "      <td>2222</td>\n",
       "    </tr>\n",
       "    <tr>\n",
       "      <th>8</th>\n",
       "      <td>0.98</td>\n",
       "      <td>400</td>\n",
       "    </tr>\n",
       "    <tr>\n",
       "      <th>9</th>\n",
       "      <td>0.99</td>\n",
       "      <td>29</td>\n",
       "    </tr>\n",
       "    <tr>\n",
       "      <th>10</th>\n",
       "      <td>1.00</td>\n",
       "      <td>0</td>\n",
       "    </tr>\n",
       "  </tbody>\n",
       "</table>\n",
       "</div>"
      ],
      "text/plain": [
       "    Threshold  Count\n",
       "0        0.90  18751\n",
       "1        0.91  16236\n",
       "2        0.92  13523\n",
       "3        0.93  11480\n",
       "4        0.94   9362\n",
       "5        0.95   7314\n",
       "6        0.96   5075\n",
       "7        0.97   2222\n",
       "8        0.98    400\n",
       "9        0.99     29\n",
       "10       1.00      0"
      ]
     },
     "execution_count": 23,
     "metadata": {},
     "output_type": "execute_result"
    }
   ],
   "source": [
    "threshold_df"
   ]
  }
 ],
 "metadata": {
  "kernelspec": {
   "display_name": "projects",
   "language": "python",
   "name": "python3"
  },
  "language_info": {
   "codemirror_mode": {
    "name": "ipython",
    "version": 3
   },
   "file_extension": ".py",
   "mimetype": "text/x-python",
   "name": "python",
   "nbconvert_exporter": "python",
   "pygments_lexer": "ipython3",
   "version": "3.10.17"
  }
 },
 "nbformat": 4,
 "nbformat_minor": 5
}
