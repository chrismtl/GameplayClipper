{
 "cells": [
  {
   "cell_type": "code",
   "execution_count": 3,
   "id": "11d8cfa0",
   "metadata": {},
   "outputs": [],
   "source": [
    "import pandas as pd\n",
    "df = pd.read_csv(\"data/out/dataframes/Jakku.csv\")"
   ]
  },
  {
   "cell_type": "code",
   "execution_count": 15,
   "id": "03ce0d52",
   "metadata": {},
   "outputs": [
    {
     "data": {
      "application/vnd.microsoft.datawrangler.viewer.v0+json": {
       "columns": [
        {
         "name": "index",
         "rawType": "int64",
         "type": "integer"
        },
        {
         "name": "game",
         "rawType": "object",
         "type": "string"
        },
        {
         "name": "event",
         "rawType": "object",
         "type": "string"
        },
        {
         "name": "timestamp",
         "rawType": "object",
         "type": "string"
        },
        {
         "name": "confidence",
         "rawType": "float64",
         "type": "float"
        },
        {
         "name": "video",
         "rawType": "object",
         "type": "string"
        }
       ],
       "ref": "98840bee-7ba5-453f-aa74-5da5a9a311af",
       "rows": [
        [
         "0",
         "bf2",
         "main_menu",
         "00:00:02:00",
         "1.0",
         "Jakku"
        ],
        [
         "1",
         "bf2",
         "ag",
         "00:00:36:20",
         "1.0",
         "Jakku"
        ],
        [
         "2",
         "bf2",
         "loadout",
         "00:00:50:00",
         "0.917",
         "Jakku"
        ],
        [
         "3",
         "bf2",
         "game_menu",
         "00:01:20:15",
         "1.0",
         "Jakku"
        ],
        [
         "4",
         "bf2",
         "spawn_troop",
         "00:01:32:13",
         "0.9919999837875366",
         "Jakku"
        ],
        [
         "5",
         "bf2",
         "sniper",
         "00:01:32:15",
         "0.993",
         "Jakku"
        ],
        [
         "6",
         "bf2",
         "kill_brc",
         "00:01:51:04",
         "0.996999979019165",
         "Jakku"
        ],
        [
         "7",
         "bf2",
         "kill_brc",
         "00:01:53:29",
         "0.996999979019165",
         "Jakku"
        ],
        [
         "8",
         "bf2",
         "kill_sgt",
         "00:01:56:20",
         "0.9929999709129332",
         "Jakku"
        ],
        [
         "9",
         "bf2",
         "kill_sgt",
         "00:01:59:01",
         "0.9980000257492064",
         "Jakku"
        ],
        [
         "10",
         "bf2",
         "kill_brc",
         "00:02:03:26",
         "0.996999979019165",
         "Jakku"
        ],
        [
         "11",
         "bf2",
         "kill_sgt",
         "00:02:06:01",
         "0.9990000128746032",
         "Jakku"
        ],
        [
         "12",
         "bf2",
         "kill_sgt",
         "00:02:08:12",
         "0.9900000095367432",
         "Jakku"
        ],
        [
         "13",
         "bf2",
         "kill_brc",
         "00:02:18:28",
         "0.996999979019165",
         "Jakku"
        ],
        [
         "14",
         "bf2",
         "kill_sgt",
         "00:02:24:24",
         "0.9990000128746032",
         "Jakku"
        ],
        [
         "15",
         "bf2",
         "kill_sgt",
         "00:02:27:05",
         "0.9990000128746032",
         "Jakku"
        ],
        [
         "16",
         "bf2",
         "kill_brc",
         "00:02:31:24",
         "0.996999979019165",
         "Jakku"
        ],
        [
         "17",
         "bf2",
         "kill_brc",
         "00:02:33:28",
         "0.996999979019165",
         "Jakku"
        ],
        [
         "18",
         "bf2",
         "kill_brc",
         "00:02:38:05",
         "0.996999979019165",
         "Jakku"
        ],
        [
         "19",
         "bf2",
         "kill_sgt",
         "00:03:02:26",
         "0.9990000128746032",
         "Jakku"
        ],
        [
         "20",
         "bf2",
         "kill_brc",
         "00:03:02:29",
         "0.9950000047683716",
         "Jakku"
        ],
        [
         "21",
         "bf2",
         "kill_sgt",
         "00:03:08:26",
         "0.9950000047683716",
         "Jakku"
        ],
        [
         "22",
         "bf2",
         "kill_brc",
         "00:03:17:21",
         "0.996999979019165",
         "Jakku"
        ],
        [
         "23",
         "bf2",
         "kill_sgt",
         "00:03:19:18",
         "0.9980000257492064",
         "Jakku"
        ],
        [
         "24",
         "bf2",
         "kill_sgt",
         "00:03:21:29",
         "0.9990000128746032",
         "Jakku"
        ],
        [
         "25",
         "bf2",
         "scoreboard",
         "00:03:22:19",
         "1.0",
         "Jakku"
        ],
        [
         "26",
         "bf2",
         "kill_sgt",
         "00:03:26:25",
         "0.9990000128746032",
         "Jakku"
        ],
        [
         "27",
         "bf2",
         "kill_sgt",
         "00:03:29:06",
         "0.9980000257492064",
         "Jakku"
        ],
        [
         "28",
         "bf2",
         "kill_sgt",
         "00:03:31:17",
         "0.9980000257492064",
         "Jakku"
        ],
        [
         "29",
         "bf2",
         "kill_sgt",
         "00:03:33:28",
         "0.9990000128746032",
         "Jakku"
        ],
        [
         "30",
         "bf2",
         "kill_brc",
         "00:04:02:03",
         "0.996999979019165",
         "Jakku"
        ],
        [
         "31",
         "bf2",
         "kill_sgt",
         "00:04:04:02",
         "0.9929999709129332",
         "Jakku"
        ],
        [
         "32",
         "bf2",
         "kill_sgt",
         "00:04:13:10",
         "0.9990000128746032",
         "Jakku"
        ],
        [
         "33",
         "bf2",
         "kill_brc",
         "00:04:22:27",
         "0.996999979019165",
         "Jakku"
        ],
        [
         "34",
         "bf2",
         "kill_sgt",
         "00:04:24:25",
         "0.996999979019165",
         "Jakku"
        ],
        [
         "35",
         "bf2",
         "kill_brc",
         "00:04:29:09",
         "0.996999979019165",
         "Jakku"
        ],
        [
         "36",
         "bf2",
         "kill_sgt",
         "00:04:30:18",
         "0.9990000128746032",
         "Jakku"
        ],
        [
         "37",
         "bf2",
         "kill_sgt",
         "00:04:36:04",
         "0.9990000128746032",
         "Jakku"
        ],
        [
         "38",
         "bf2",
         "kill_brc",
         "00:04:36:08",
         "0.9959999918937684",
         "Jakku"
        ],
        [
         "39",
         "bf2",
         "kill_brc",
         "00:04:42:06",
         "0.996999979019165",
         "Jakku"
        ],
        [
         "40",
         "bf2",
         "kill_brc",
         "00:04:47:23",
         "0.996999979019165",
         "Jakku"
        ],
        [
         "41",
         "bf2",
         "kill_sgt",
         "00:04:56:02",
         "0.9990000128746032",
         "Jakku"
        ],
        [
         "42",
         "bf2",
         "scoreboard",
         "00:04:57:09",
         "1.0",
         "Jakku"
        ],
        [
         "43",
         "bf2",
         "kill_sgt",
         "00:04:59:16",
         "0.9980000257492064",
         "Jakku"
        ],
        [
         "44",
         "bf2",
         "kill_sgt",
         "00:05:01:27",
         "0.9980000257492064",
         "Jakku"
        ],
        [
         "45",
         "bf2",
         "game_menu",
         "00:05:02:15",
         "1.0",
         "Jakku"
        ],
        [
         "46",
         "bf2",
         "spawn_troop",
         "00:05:03:05",
         "1.0",
         "Jakku"
        ],
        [
         "47",
         "bf2",
         "sniper",
         "00:05:03:06",
         "1.0",
         "Jakku"
        ],
        [
         "48",
         "bf2",
         "scoreboard",
         "00:05:04:12",
         "1.0",
         "Jakku"
        ],
        [
         "49",
         "bf2",
         "loadout",
         "00:05:06:20",
         "0.914",
         "Jakku"
        ]
       ],
       "shape": {
        "columns": 5,
        "rows": 195
       }
      },
      "text/html": [
       "<div>\n",
       "<style scoped>\n",
       "    .dataframe tbody tr th:only-of-type {\n",
       "        vertical-align: middle;\n",
       "    }\n",
       "\n",
       "    .dataframe tbody tr th {\n",
       "        vertical-align: top;\n",
       "    }\n",
       "\n",
       "    .dataframe thead th {\n",
       "        text-align: right;\n",
       "    }\n",
       "</style>\n",
       "<table border=\"1\" class=\"dataframe\">\n",
       "  <thead>\n",
       "    <tr style=\"text-align: right;\">\n",
       "      <th></th>\n",
       "      <th>game</th>\n",
       "      <th>event</th>\n",
       "      <th>timestamp</th>\n",
       "      <th>confidence</th>\n",
       "      <th>video</th>\n",
       "    </tr>\n",
       "  </thead>\n",
       "  <tbody>\n",
       "    <tr>\n",
       "      <th>0</th>\n",
       "      <td>bf2</td>\n",
       "      <td>main_menu</td>\n",
       "      <td>00:00:02:00</td>\n",
       "      <td>1.000</td>\n",
       "      <td>Jakku</td>\n",
       "    </tr>\n",
       "    <tr>\n",
       "      <th>1</th>\n",
       "      <td>bf2</td>\n",
       "      <td>ag</td>\n",
       "      <td>00:00:36:20</td>\n",
       "      <td>1.000</td>\n",
       "      <td>Jakku</td>\n",
       "    </tr>\n",
       "    <tr>\n",
       "      <th>2</th>\n",
       "      <td>bf2</td>\n",
       "      <td>loadout</td>\n",
       "      <td>00:00:50:00</td>\n",
       "      <td>0.917</td>\n",
       "      <td>Jakku</td>\n",
       "    </tr>\n",
       "    <tr>\n",
       "      <th>3</th>\n",
       "      <td>bf2</td>\n",
       "      <td>game_menu</td>\n",
       "      <td>00:01:20:15</td>\n",
       "      <td>1.000</td>\n",
       "      <td>Jakku</td>\n",
       "    </tr>\n",
       "    <tr>\n",
       "      <th>4</th>\n",
       "      <td>bf2</td>\n",
       "      <td>spawn_troop</td>\n",
       "      <td>00:01:32:13</td>\n",
       "      <td>0.992</td>\n",
       "      <td>Jakku</td>\n",
       "    </tr>\n",
       "    <tr>\n",
       "      <th>...</th>\n",
       "      <td>...</td>\n",
       "      <td>...</td>\n",
       "      <td>...</td>\n",
       "      <td>...</td>\n",
       "      <td>...</td>\n",
       "    </tr>\n",
       "    <tr>\n",
       "      <th>190</th>\n",
       "      <td>bf2</td>\n",
       "      <td>kill_sgt</td>\n",
       "      <td>00:24:50:20</td>\n",
       "      <td>0.998</td>\n",
       "      <td>Jakku</td>\n",
       "    </tr>\n",
       "    <tr>\n",
       "      <th>191</th>\n",
       "      <td>bf2</td>\n",
       "      <td>scoreboard</td>\n",
       "      <td>00:24:55:28</td>\n",
       "      <td>1.000</td>\n",
       "      <td>Jakku</td>\n",
       "    </tr>\n",
       "    <tr>\n",
       "      <th>192</th>\n",
       "      <td>bf2</td>\n",
       "      <td>podium</td>\n",
       "      <td>00:25:16:00</td>\n",
       "      <td>0.999</td>\n",
       "      <td>Jakku</td>\n",
       "    </tr>\n",
       "    <tr>\n",
       "      <th>193</th>\n",
       "      <td>bf2</td>\n",
       "      <td>match_end</td>\n",
       "      <td>00:25:20:00</td>\n",
       "      <td>0.995</td>\n",
       "      <td>Jakku</td>\n",
       "    </tr>\n",
       "    <tr>\n",
       "      <th>194</th>\n",
       "      <td>bf2</td>\n",
       "      <td>loadout</td>\n",
       "      <td>00:25:53:10</td>\n",
       "      <td>0.924</td>\n",
       "      <td>Jakku</td>\n",
       "    </tr>\n",
       "  </tbody>\n",
       "</table>\n",
       "<p>195 rows × 5 columns</p>\n",
       "</div>"
      ],
      "text/plain": [
       "    game        event    timestamp  confidence  video\n",
       "0    bf2    main_menu  00:00:02:00       1.000  Jakku\n",
       "1    bf2           ag  00:00:36:20       1.000  Jakku\n",
       "2    bf2      loadout  00:00:50:00       0.917  Jakku\n",
       "3    bf2    game_menu  00:01:20:15       1.000  Jakku\n",
       "4    bf2  spawn_troop  00:01:32:13       0.992  Jakku\n",
       "..   ...          ...          ...         ...    ...\n",
       "190  bf2     kill_sgt  00:24:50:20       0.998  Jakku\n",
       "191  bf2   scoreboard  00:24:55:28       1.000  Jakku\n",
       "192  bf2       podium  00:25:16:00       0.999  Jakku\n",
       "193  bf2    match_end  00:25:20:00       0.995  Jakku\n",
       "194  bf2      loadout  00:25:53:10       0.924  Jakku\n",
       "\n",
       "[195 rows x 5 columns]"
      ]
     },
     "execution_count": 15,
     "metadata": {},
     "output_type": "execute_result"
    }
   ],
   "source": [
    "df"
   ]
  },
  {
   "cell_type": "code",
   "execution_count": 30,
   "id": "6fac80fb",
   "metadata": {},
   "outputs": [
    {
     "data": {
      "application/vnd.microsoft.datawrangler.viewer.v0+json": {
       "columns": [
        {
         "name": "event",
         "rawType": "object",
         "type": "string"
        },
        {
         "name": "count",
         "rawType": "int64",
         "type": "integer"
        }
       ],
       "ref": "b03951a8-7e67-4374-80b8-3383dfca76ea",
       "rows": [
        [
         "kill_sgt",
         "82"
        ],
        [
         "kill_brc",
         "53"
        ],
        [
         "scoreboard",
         "18"
        ],
        [
         "spawn_troop",
         "11"
        ],
        [
         "loadout",
         "11"
        ],
        [
         "heavy",
         "5"
        ],
        [
         "hero",
         "3"
        ],
        [
         "death",
         "3"
        ],
        [
         "sniper",
         "3"
        ],
        [
         "game_menu",
         "2"
        ],
        [
         "main_menu",
         "1"
        ],
        [
         "ag",
         "1"
        ],
        [
         "podium",
         "1"
        ],
        [
         "match_end",
         "1"
        ]
       ],
       "shape": {
        "columns": 1,
        "rows": 14
       }
      },
      "text/plain": [
       "event\n",
       "kill_sgt       82\n",
       "kill_brc       53\n",
       "scoreboard     18\n",
       "spawn_troop    11\n",
       "loadout        11\n",
       "heavy           5\n",
       "hero            3\n",
       "death           3\n",
       "sniper          3\n",
       "game_menu       2\n",
       "main_menu       1\n",
       "ag              1\n",
       "podium          1\n",
       "match_end       1\n",
       "Name: count, dtype: int64"
      ]
     },
     "execution_count": 30,
     "metadata": {},
     "output_type": "execute_result"
    }
   ],
   "source": [
    "df[\"event\"].value_counts()"
   ]
  },
  {
   "cell_type": "code",
   "execution_count": 18,
   "id": "41582b4d",
   "metadata": {},
   "outputs": [
    {
     "data": {
      "application/vnd.microsoft.datawrangler.viewer.v0+json": {
       "columns": [
        {
         "name": "event",
         "rawType": "object",
         "type": "string"
        },
        {
         "name": "confidence",
         "rawType": "float64",
         "type": "float"
        }
       ],
       "ref": "024611fc-7b8a-4ea2-b08d-bb1a63328850",
       "rows": [
        [
         "ag",
         "1.0"
        ],
        [
         "death",
         "0.9209999999999999"
        ],
        [
         "game_menu",
         "1.0"
        ],
        [
         "heavy",
         "0.9916"
        ],
        [
         "hero",
         "0.991"
        ],
        [
         "kill_brc",
         "0.9961320622911993"
        ],
        [
         "kill_sgt",
         "0.9964024475434932"
        ],
        [
         "loadout",
         "0.8945454545454545"
        ],
        [
         "main_menu",
         "1.0"
        ],
        [
         "match_end",
         "0.995"
        ],
        [
         "podium",
         "0.999"
        ],
        [
         "scoreboard",
         "0.9988333317968581"
        ],
        [
         "sniper",
         "0.9976666666666666"
        ],
        [
         "spawn_troop",
         "0.9929999871687456"
        ]
       ],
       "shape": {
        "columns": 1,
        "rows": 14
       }
      },
      "text/plain": [
       "event\n",
       "ag             1.000000\n",
       "death          0.921000\n",
       "game_menu      1.000000\n",
       "heavy          0.991600\n",
       "hero           0.991000\n",
       "kill_brc       0.996132\n",
       "kill_sgt       0.996402\n",
       "loadout        0.894545\n",
       "main_menu      1.000000\n",
       "match_end      0.995000\n",
       "podium         0.999000\n",
       "scoreboard     0.998833\n",
       "sniper         0.997667\n",
       "spawn_troop    0.993000\n",
       "Name: confidence, dtype: float64"
      ]
     },
     "execution_count": 18,
     "metadata": {},
     "output_type": "execute_result"
    }
   ],
   "source": [
    "df.groupby('event')['confidence'].mean()\n"
   ]
  },
  {
   "cell_type": "code",
   "execution_count": 19,
   "id": "49eb8914",
   "metadata": {},
   "outputs": [
    {
     "data": {
      "application/vnd.microsoft.datawrangler.viewer.v0+json": {
       "columns": [
        {
         "name": "event",
         "rawType": "object",
         "type": "string"
        },
        {
         "name": "min",
         "rawType": "float64",
         "type": "float"
        },
        {
         "name": "max",
         "rawType": "float64",
         "type": "float"
        }
       ],
       "ref": "33d57414-11d2-4023-b31f-58b1a385c679",
       "rows": [
        [
         "ag",
         "1.0",
         "1.0"
        ],
        [
         "death",
         "0.9",
         "0.941"
        ],
        [
         "game_menu",
         "1.0",
         "1.0"
        ],
        [
         "heavy",
         "0.99",
         "0.994"
        ],
        [
         "hero",
         "0.991",
         "0.991"
        ],
        [
         "kill_brc",
         "0.9929999709129332",
         "0.996999979019165"
        ],
        [
         "kill_sgt",
         "0.9900000095367432",
         "0.9990000128746032"
        ],
        [
         "loadout",
         "0.819",
         "0.975"
        ],
        [
         "main_menu",
         "1.0",
         "1.0"
        ],
        [
         "match_end",
         "0.995",
         "0.995"
        ],
        [
         "podium",
         "0.999",
         "0.999"
        ],
        [
         "scoreboard",
         "0.9919999837875366",
         "1.0"
        ],
        [
         "sniper",
         "0.993",
         "1.0"
        ],
        [
         "spawn_troop",
         "0.99099999666214",
         "1.0"
        ]
       ],
       "shape": {
        "columns": 2,
        "rows": 14
       }
      },
      "text/html": [
       "<div>\n",
       "<style scoped>\n",
       "    .dataframe tbody tr th:only-of-type {\n",
       "        vertical-align: middle;\n",
       "    }\n",
       "\n",
       "    .dataframe tbody tr th {\n",
       "        vertical-align: top;\n",
       "    }\n",
       "\n",
       "    .dataframe thead th {\n",
       "        text-align: right;\n",
       "    }\n",
       "</style>\n",
       "<table border=\"1\" class=\"dataframe\">\n",
       "  <thead>\n",
       "    <tr style=\"text-align: right;\">\n",
       "      <th></th>\n",
       "      <th>min</th>\n",
       "      <th>max</th>\n",
       "    </tr>\n",
       "    <tr>\n",
       "      <th>event</th>\n",
       "      <th></th>\n",
       "      <th></th>\n",
       "    </tr>\n",
       "  </thead>\n",
       "  <tbody>\n",
       "    <tr>\n",
       "      <th>ag</th>\n",
       "      <td>1.000</td>\n",
       "      <td>1.000</td>\n",
       "    </tr>\n",
       "    <tr>\n",
       "      <th>death</th>\n",
       "      <td>0.900</td>\n",
       "      <td>0.941</td>\n",
       "    </tr>\n",
       "    <tr>\n",
       "      <th>game_menu</th>\n",
       "      <td>1.000</td>\n",
       "      <td>1.000</td>\n",
       "    </tr>\n",
       "    <tr>\n",
       "      <th>heavy</th>\n",
       "      <td>0.990</td>\n",
       "      <td>0.994</td>\n",
       "    </tr>\n",
       "    <tr>\n",
       "      <th>hero</th>\n",
       "      <td>0.991</td>\n",
       "      <td>0.991</td>\n",
       "    </tr>\n",
       "    <tr>\n",
       "      <th>kill_brc</th>\n",
       "      <td>0.993</td>\n",
       "      <td>0.997</td>\n",
       "    </tr>\n",
       "    <tr>\n",
       "      <th>kill_sgt</th>\n",
       "      <td>0.990</td>\n",
       "      <td>0.999</td>\n",
       "    </tr>\n",
       "    <tr>\n",
       "      <th>loadout</th>\n",
       "      <td>0.819</td>\n",
       "      <td>0.975</td>\n",
       "    </tr>\n",
       "    <tr>\n",
       "      <th>main_menu</th>\n",
       "      <td>1.000</td>\n",
       "      <td>1.000</td>\n",
       "    </tr>\n",
       "    <tr>\n",
       "      <th>match_end</th>\n",
       "      <td>0.995</td>\n",
       "      <td>0.995</td>\n",
       "    </tr>\n",
       "    <tr>\n",
       "      <th>podium</th>\n",
       "      <td>0.999</td>\n",
       "      <td>0.999</td>\n",
       "    </tr>\n",
       "    <tr>\n",
       "      <th>scoreboard</th>\n",
       "      <td>0.992</td>\n",
       "      <td>1.000</td>\n",
       "    </tr>\n",
       "    <tr>\n",
       "      <th>sniper</th>\n",
       "      <td>0.993</td>\n",
       "      <td>1.000</td>\n",
       "    </tr>\n",
       "    <tr>\n",
       "      <th>spawn_troop</th>\n",
       "      <td>0.991</td>\n",
       "      <td>1.000</td>\n",
       "    </tr>\n",
       "  </tbody>\n",
       "</table>\n",
       "</div>"
      ],
      "text/plain": [
       "               min    max\n",
       "event                    \n",
       "ag           1.000  1.000\n",
       "death        0.900  0.941\n",
       "game_menu    1.000  1.000\n",
       "heavy        0.990  0.994\n",
       "hero         0.991  0.991\n",
       "kill_brc     0.993  0.997\n",
       "kill_sgt     0.990  0.999\n",
       "loadout      0.819  0.975\n",
       "main_menu    1.000  1.000\n",
       "match_end    0.995  0.995\n",
       "podium       0.999  0.999\n",
       "scoreboard   0.992  1.000\n",
       "sniper       0.993  1.000\n",
       "spawn_troop  0.991  1.000"
      ]
     },
     "execution_count": 19,
     "metadata": {},
     "output_type": "execute_result"
    }
   ],
   "source": [
    "df.groupby('event')['confidence'].agg(['min', 'max'])"
   ]
  },
  {
   "cell_type": "code",
   "execution_count": 20,
   "id": "2aedc6ad",
   "metadata": {},
   "outputs": [
    {
     "name": "stdout",
     "output_type": "stream",
     "text": [
      "Average delay between loadout and spawn: 44.15 seconds\n"
     ]
    }
   ],
   "source": [
    "# Convert timestamp to timedelta (handle \"HH:MM:SS:FF\" as if \"HH:MM:SS:frames\")\n",
    "def timestamp_to_seconds(ts):\n",
    "    h, m, s, f = map(int, ts.split(\":\"))\n",
    "    return h * 3600 + m * 60 + s + f / 30  # Assuming 30 fps\n",
    "\n",
    "df['timestamp_sec'] = df['timestamp'].apply(timestamp_to_seconds)\n",
    "\n",
    "# Extract timestamps\n",
    "spawn_times = df[df['event'] == 'spawn_troop']['timestamp_sec'].values\n",
    "loadout_times = df[df['event'] == 'loadout']['timestamp_sec'].values\n",
    "\n",
    "# Compute closest preceding loadout for each spawn\n",
    "delays = []\n",
    "for spawn in spawn_times:\n",
    "    prior_loadouts = loadout_times[loadout_times < spawn]\n",
    "    if len(prior_loadouts) > 0:\n",
    "        delay = spawn - prior_loadouts[-1]  # last loadout before spawn\n",
    "        delays.append(delay)\n",
    "\n",
    "avg_delay = sum(delays) / len(delays) if delays else None\n",
    "print(f\"Average delay between loadout and spawn: {avg_delay:.2f} seconds\")\n"
   ]
  },
  {
   "cell_type": "code",
   "execution_count": 28,
   "id": "2c08b583",
   "metadata": {},
   "outputs": [
    {
     "name": "stdout",
     "output_type": "stream",
     "text": [
      "Average K/D ratio: 3.80\n"
     ]
    }
   ],
   "source": [
    "# Get only relevant rows and sort chronologically\n",
    "life_df = df[df['event'].isin(['spawn_troop', 'loadout', 'kill_brc', 'kill_sgt', 'kill'])]\n",
    "life_df = life_df.sort_values(by='timestamp')\n",
    "\n",
    "# Reset index to allow iteration\n",
    "life_df = life_df.reset_index(drop=True)\n",
    "\n",
    "# Track kills between each spawn and the next loadout\n",
    "kd_ratios = []\n",
    "current_kill_count = 0\n",
    "in_life = False\n",
    "\n",
    "for _, row in life_df.iterrows():\n",
    "    event = row['event']\n",
    "    \n",
    "    if event == 'spawn_troop':\n",
    "        current_kill_count = 0\n",
    "        in_life = True\n",
    "\n",
    "    elif event == 'kill_brc' and in_life:\n",
    "        current_kill_count += 1\n",
    "\n",
    "    elif event == 'loadout' and in_life:\n",
    "        kd_ratios.append(current_kill_count)\n",
    "        in_life = False\n",
    "\n",
    "# Compute average K/D\n",
    "avg_kd = sum(kd_ratios) / len(kd_ratios) if kd_ratios else 0\n",
    "print(f\"Average K/D ratio: {avg_kd:.2f}\")\n"
   ]
  },
  {
   "cell_type": "code",
   "execution_count": 29,
   "id": "090c8637",
   "metadata": {},
   "outputs": [
    {
     "name": "stdout",
     "output_type": "stream",
     "text": [
      "🧬 Life 1  | Spawned at 00:05:03:05 | 0 kills\n",
      "🧬 Life 2  | Spawned at 00:05:18:00 | 5 kills\n",
      "🧬 Life 3  | Spawned at 00:07:58:05 | 9 kills\n",
      "🧬 Life 4  | Spawned at 00:11:49:24 | 16 kills\n",
      "🧬 Life 5  | Spawned at 00:19:03:02 | 0 kills\n",
      "🧬 Life 6  | Spawned at 00:19:38:09 | 1 kills\n",
      "🧬 Life 7  | Spawned at 00:20:37:13 | 1 kills\n",
      "🧬 Life 8  | Spawned at 00:20:55:22 | 2 kills\n",
      "🧬 Life 9  | Spawned at 00:21:45:22 | 3 kills\n",
      "🧬 Life 10 | Spawned at 00:24:27:24 | 1 kills\n"
     ]
    }
   ],
   "source": [
    "# Filter and sort relevant events\n",
    "life_df = df[df['event'].isin(['spawn_troop', 'loadout', 'kill_brc'])]\n",
    "life_df = life_df.sort_values(by='timestamp').reset_index(drop=True)\n",
    "\n",
    "# Group kills per life, record spawn timestamps\n",
    "life_kills = []\n",
    "spawn_timestamps = []\n",
    "current_kills = []\n",
    "in_life = False\n",
    "current_spawn_time = None\n",
    "\n",
    "for _, row in life_df.iterrows():\n",
    "    event = row['event']\n",
    "    \n",
    "    if event == 'spawn_troop':\n",
    "        current_kills = []\n",
    "        current_spawn_time = row['timestamp']\n",
    "        in_life = True\n",
    "    \n",
    "    elif event.startswith('kill') and in_life:\n",
    "        current_kills.append(event)\n",
    "    \n",
    "    elif event == 'loadout' and in_life:\n",
    "        life_kills.append(current_kills)\n",
    "        spawn_timestamps.append(current_spawn_time)\n",
    "        in_life = False\n",
    "\n",
    "# Print kills and spawn timestamps\n",
    "for i, (kills, spawn_time) in enumerate(zip(life_kills, spawn_timestamps), 1):\n",
    "    print(f\"🧬 Life {i:<2} | Spawned at {spawn_time} | {len(kills)} kills\")\n"
   ]
  },
  {
   "cell_type": "code",
   "execution_count": 24,
   "id": "68c1c0d2",
   "metadata": {},
   "outputs": [
    {
     "data": {
      "application/vnd.microsoft.datawrangler.viewer.v0+json": {
       "columns": [
        {
         "name": "index",
         "rawType": "int64",
         "type": "integer"
        },
        {
         "name": "game",
         "rawType": "object",
         "type": "string"
        },
        {
         "name": "event",
         "rawType": "object",
         "type": "string"
        },
        {
         "name": "timestamp",
         "rawType": "object",
         "type": "string"
        },
        {
         "name": "confidence",
         "rawType": "float64",
         "type": "float"
        },
        {
         "name": "video",
         "rawType": "object",
         "type": "string"
        },
        {
         "name": "timestamp_sec",
         "rawType": "float64",
         "type": "float"
        }
       ],
       "ref": "9a2ff04b-ff79-426f-8a7b-da619248fed5",
       "rows": [
        [
         "0",
         "bf2",
         "main_menu",
         "00:00:02:00",
         "1.0",
         "Jakku",
         "2.0"
        ],
        [
         "1",
         "bf2",
         "ag",
         "00:00:36:20",
         "1.0",
         "Jakku",
         "36.666666666666664"
        ],
        [
         "2",
         "bf2",
         "loadout",
         "00:00:50:00",
         "0.917",
         "Jakku",
         "50.0"
        ],
        [
         "3",
         "bf2",
         "game_menu",
         "00:01:20:15",
         "1.0",
         "Jakku",
         "80.5"
        ],
        [
         "4",
         "bf2",
         "spawn_troop",
         "00:01:32:13",
         "0.9919999837875366",
         "Jakku",
         "92.43333333333334"
        ],
        [
         "5",
         "bf2",
         "sniper",
         "00:01:32:15",
         "0.993",
         "Jakku",
         "92.5"
        ],
        [
         "6",
         "bf2",
         "kill_brc",
         "00:01:51:04",
         "0.996999979019165",
         "Jakku",
         "111.13333333333334"
        ],
        [
         "7",
         "bf2",
         "kill_brc",
         "00:01:53:29",
         "0.996999979019165",
         "Jakku",
         "113.96666666666667"
        ],
        [
         "8",
         "bf2",
         "kill_sgt",
         "00:01:56:20",
         "0.9929999709129332",
         "Jakku",
         "116.66666666666667"
        ],
        [
         "9",
         "bf2",
         "kill_sgt",
         "00:01:59:01",
         "0.9980000257492064",
         "Jakku",
         "119.03333333333333"
        ],
        [
         "10",
         "bf2",
         "kill_brc",
         "00:02:03:26",
         "0.996999979019165",
         "Jakku",
         "123.86666666666666"
        ],
        [
         "11",
         "bf2",
         "kill_sgt",
         "00:02:06:01",
         "0.9990000128746032",
         "Jakku",
         "126.03333333333333"
        ],
        [
         "12",
         "bf2",
         "kill_sgt",
         "00:02:08:12",
         "0.9900000095367432",
         "Jakku",
         "128.4"
        ],
        [
         "13",
         "bf2",
         "kill_brc",
         "00:02:18:28",
         "0.996999979019165",
         "Jakku",
         "138.93333333333334"
        ],
        [
         "14",
         "bf2",
         "kill_sgt",
         "00:02:24:24",
         "0.9990000128746032",
         "Jakku",
         "144.8"
        ],
        [
         "15",
         "bf2",
         "kill_sgt",
         "00:02:27:05",
         "0.9990000128746032",
         "Jakku",
         "147.16666666666666"
        ],
        [
         "16",
         "bf2",
         "kill_brc",
         "00:02:31:24",
         "0.996999979019165",
         "Jakku",
         "151.8"
        ],
        [
         "17",
         "bf2",
         "kill_brc",
         "00:02:33:28",
         "0.996999979019165",
         "Jakku",
         "153.93333333333334"
        ],
        [
         "18",
         "bf2",
         "kill_brc",
         "00:02:38:05",
         "0.996999979019165",
         "Jakku",
         "158.16666666666666"
        ],
        [
         "19",
         "bf2",
         "kill_sgt",
         "00:03:02:26",
         "0.9990000128746032",
         "Jakku",
         "182.86666666666667"
        ],
        [
         "20",
         "bf2",
         "kill_brc",
         "00:03:02:29",
         "0.9950000047683716",
         "Jakku",
         "182.96666666666667"
        ],
        [
         "21",
         "bf2",
         "kill_sgt",
         "00:03:08:26",
         "0.9950000047683716",
         "Jakku",
         "188.86666666666667"
        ],
        [
         "22",
         "bf2",
         "kill_brc",
         "00:03:17:21",
         "0.996999979019165",
         "Jakku",
         "197.7"
        ],
        [
         "23",
         "bf2",
         "kill_sgt",
         "00:03:19:18",
         "0.9980000257492064",
         "Jakku",
         "199.6"
        ],
        [
         "24",
         "bf2",
         "kill_sgt",
         "00:03:21:29",
         "0.9990000128746032",
         "Jakku",
         "201.96666666666667"
        ],
        [
         "25",
         "bf2",
         "scoreboard",
         "00:03:22:19",
         "1.0",
         "Jakku",
         "202.63333333333333"
        ],
        [
         "26",
         "bf2",
         "kill_sgt",
         "00:03:26:25",
         "0.9990000128746032",
         "Jakku",
         "206.83333333333334"
        ],
        [
         "27",
         "bf2",
         "kill_sgt",
         "00:03:29:06",
         "0.9980000257492064",
         "Jakku",
         "209.2"
        ],
        [
         "28",
         "bf2",
         "kill_sgt",
         "00:03:31:17",
         "0.9980000257492064",
         "Jakku",
         "211.56666666666666"
        ],
        [
         "29",
         "bf2",
         "kill_sgt",
         "00:03:33:28",
         "0.9990000128746032",
         "Jakku",
         "213.93333333333334"
        ],
        [
         "30",
         "bf2",
         "kill_brc",
         "00:04:02:03",
         "0.996999979019165",
         "Jakku",
         "242.1"
        ],
        [
         "31",
         "bf2",
         "kill_sgt",
         "00:04:04:02",
         "0.9929999709129332",
         "Jakku",
         "244.06666666666666"
        ],
        [
         "32",
         "bf2",
         "kill_sgt",
         "00:04:13:10",
         "0.9990000128746032",
         "Jakku",
         "253.33333333333334"
        ],
        [
         "33",
         "bf2",
         "kill_brc",
         "00:04:22:27",
         "0.996999979019165",
         "Jakku",
         "262.9"
        ],
        [
         "34",
         "bf2",
         "kill_sgt",
         "00:04:24:25",
         "0.996999979019165",
         "Jakku",
         "264.8333333333333"
        ],
        [
         "35",
         "bf2",
         "kill_brc",
         "00:04:29:09",
         "0.996999979019165",
         "Jakku",
         "269.3"
        ],
        [
         "36",
         "bf2",
         "kill_sgt",
         "00:04:30:18",
         "0.9990000128746032",
         "Jakku",
         "270.6"
        ],
        [
         "37",
         "bf2",
         "kill_sgt",
         "00:04:36:04",
         "0.9990000128746032",
         "Jakku",
         "276.1333333333333"
        ],
        [
         "38",
         "bf2",
         "kill_brc",
         "00:04:36:08",
         "0.9959999918937684",
         "Jakku",
         "276.26666666666665"
        ],
        [
         "39",
         "bf2",
         "kill_brc",
         "00:04:42:06",
         "0.996999979019165",
         "Jakku",
         "282.2"
        ],
        [
         "40",
         "bf2",
         "kill_brc",
         "00:04:47:23",
         "0.996999979019165",
         "Jakku",
         "287.76666666666665"
        ],
        [
         "41",
         "bf2",
         "kill_sgt",
         "00:04:56:02",
         "0.9990000128746032",
         "Jakku",
         "296.06666666666666"
        ],
        [
         "42",
         "bf2",
         "scoreboard",
         "00:04:57:09",
         "1.0",
         "Jakku",
         "297.3"
        ],
        [
         "43",
         "bf2",
         "kill_sgt",
         "00:04:59:16",
         "0.9980000257492064",
         "Jakku",
         "299.53333333333336"
        ],
        [
         "44",
         "bf2",
         "kill_sgt",
         "00:05:01:27",
         "0.9980000257492064",
         "Jakku",
         "301.9"
        ],
        [
         "45",
         "bf2",
         "game_menu",
         "00:05:02:15",
         "1.0",
         "Jakku",
         "302.5"
        ],
        [
         "46",
         "bf2",
         "spawn_troop",
         "00:05:03:05",
         "1.0",
         "Jakku",
         "303.1666666666667"
        ],
        [
         "47",
         "bf2",
         "sniper",
         "00:05:03:06",
         "1.0",
         "Jakku",
         "303.2"
        ],
        [
         "48",
         "bf2",
         "scoreboard",
         "00:05:04:12",
         "1.0",
         "Jakku",
         "304.4"
        ],
        [
         "49",
         "bf2",
         "loadout",
         "00:05:06:20",
         "0.914",
         "Jakku",
         "306.6666666666667"
        ]
       ],
       "shape": {
        "columns": 6,
        "rows": 195
       }
      },
      "text/html": [
       "<div>\n",
       "<style scoped>\n",
       "    .dataframe tbody tr th:only-of-type {\n",
       "        vertical-align: middle;\n",
       "    }\n",
       "\n",
       "    .dataframe tbody tr th {\n",
       "        vertical-align: top;\n",
       "    }\n",
       "\n",
       "    .dataframe thead th {\n",
       "        text-align: right;\n",
       "    }\n",
       "</style>\n",
       "<table border=\"1\" class=\"dataframe\">\n",
       "  <thead>\n",
       "    <tr style=\"text-align: right;\">\n",
       "      <th></th>\n",
       "      <th>game</th>\n",
       "      <th>event</th>\n",
       "      <th>timestamp</th>\n",
       "      <th>confidence</th>\n",
       "      <th>video</th>\n",
       "      <th>timestamp_sec</th>\n",
       "    </tr>\n",
       "  </thead>\n",
       "  <tbody>\n",
       "    <tr>\n",
       "      <th>0</th>\n",
       "      <td>bf2</td>\n",
       "      <td>main_menu</td>\n",
       "      <td>00:00:02:00</td>\n",
       "      <td>1.000</td>\n",
       "      <td>Jakku</td>\n",
       "      <td>2.000000</td>\n",
       "    </tr>\n",
       "    <tr>\n",
       "      <th>1</th>\n",
       "      <td>bf2</td>\n",
       "      <td>ag</td>\n",
       "      <td>00:00:36:20</td>\n",
       "      <td>1.000</td>\n",
       "      <td>Jakku</td>\n",
       "      <td>36.666667</td>\n",
       "    </tr>\n",
       "    <tr>\n",
       "      <th>2</th>\n",
       "      <td>bf2</td>\n",
       "      <td>loadout</td>\n",
       "      <td>00:00:50:00</td>\n",
       "      <td>0.917</td>\n",
       "      <td>Jakku</td>\n",
       "      <td>50.000000</td>\n",
       "    </tr>\n",
       "    <tr>\n",
       "      <th>3</th>\n",
       "      <td>bf2</td>\n",
       "      <td>game_menu</td>\n",
       "      <td>00:01:20:15</td>\n",
       "      <td>1.000</td>\n",
       "      <td>Jakku</td>\n",
       "      <td>80.500000</td>\n",
       "    </tr>\n",
       "    <tr>\n",
       "      <th>4</th>\n",
       "      <td>bf2</td>\n",
       "      <td>spawn_troop</td>\n",
       "      <td>00:01:32:13</td>\n",
       "      <td>0.992</td>\n",
       "      <td>Jakku</td>\n",
       "      <td>92.433333</td>\n",
       "    </tr>\n",
       "    <tr>\n",
       "      <th>...</th>\n",
       "      <td>...</td>\n",
       "      <td>...</td>\n",
       "      <td>...</td>\n",
       "      <td>...</td>\n",
       "      <td>...</td>\n",
       "      <td>...</td>\n",
       "    </tr>\n",
       "    <tr>\n",
       "      <th>190</th>\n",
       "      <td>bf2</td>\n",
       "      <td>kill_sgt</td>\n",
       "      <td>00:24:50:20</td>\n",
       "      <td>0.998</td>\n",
       "      <td>Jakku</td>\n",
       "      <td>1490.666667</td>\n",
       "    </tr>\n",
       "    <tr>\n",
       "      <th>191</th>\n",
       "      <td>bf2</td>\n",
       "      <td>scoreboard</td>\n",
       "      <td>00:24:55:28</td>\n",
       "      <td>1.000</td>\n",
       "      <td>Jakku</td>\n",
       "      <td>1495.933333</td>\n",
       "    </tr>\n",
       "    <tr>\n",
       "      <th>192</th>\n",
       "      <td>bf2</td>\n",
       "      <td>podium</td>\n",
       "      <td>00:25:16:00</td>\n",
       "      <td>0.999</td>\n",
       "      <td>Jakku</td>\n",
       "      <td>1516.000000</td>\n",
       "    </tr>\n",
       "    <tr>\n",
       "      <th>193</th>\n",
       "      <td>bf2</td>\n",
       "      <td>match_end</td>\n",
       "      <td>00:25:20:00</td>\n",
       "      <td>0.995</td>\n",
       "      <td>Jakku</td>\n",
       "      <td>1520.000000</td>\n",
       "    </tr>\n",
       "    <tr>\n",
       "      <th>194</th>\n",
       "      <td>bf2</td>\n",
       "      <td>loadout</td>\n",
       "      <td>00:25:53:10</td>\n",
       "      <td>0.924</td>\n",
       "      <td>Jakku</td>\n",
       "      <td>1553.333333</td>\n",
       "    </tr>\n",
       "  </tbody>\n",
       "</table>\n",
       "<p>195 rows × 6 columns</p>\n",
       "</div>"
      ],
      "text/plain": [
       "    game        event    timestamp  confidence  video  timestamp_sec\n",
       "0    bf2    main_menu  00:00:02:00       1.000  Jakku       2.000000\n",
       "1    bf2           ag  00:00:36:20       1.000  Jakku      36.666667\n",
       "2    bf2      loadout  00:00:50:00       0.917  Jakku      50.000000\n",
       "3    bf2    game_menu  00:01:20:15       1.000  Jakku      80.500000\n",
       "4    bf2  spawn_troop  00:01:32:13       0.992  Jakku      92.433333\n",
       "..   ...          ...          ...         ...    ...            ...\n",
       "190  bf2     kill_sgt  00:24:50:20       0.998  Jakku    1490.666667\n",
       "191  bf2   scoreboard  00:24:55:28       1.000  Jakku    1495.933333\n",
       "192  bf2       podium  00:25:16:00       0.999  Jakku    1516.000000\n",
       "193  bf2    match_end  00:25:20:00       0.995  Jakku    1520.000000\n",
       "194  bf2      loadout  00:25:53:10       0.924  Jakku    1553.333333\n",
       "\n",
       "[195 rows x 6 columns]"
      ]
     },
     "execution_count": 24,
     "metadata": {},
     "output_type": "execute_result"
    }
   ],
   "source": [
    "df"
   ]
  }
 ],
 "metadata": {
  "kernelspec": {
   "display_name": "projects",
   "language": "python",
   "name": "python3"
  },
  "language_info": {
   "codemirror_mode": {
    "name": "ipython",
    "version": 3
   },
   "file_extension": ".py",
   "mimetype": "text/x-python",
   "name": "python",
   "nbconvert_exporter": "python",
   "pygments_lexer": "ipython3",
   "version": "3.10.17"
  }
 },
 "nbformat": 4,
 "nbformat_minor": 5
}
