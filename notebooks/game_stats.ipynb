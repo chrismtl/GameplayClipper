{
 "cells": [
  {
   "cell_type": "code",
   "execution_count": 1,
   "id": "6cd2ed9e",
   "metadata": {},
   "outputs": [],
   "source": [
    "import numpy as np\n",
    "import cv2\n",
    "import os\n",
    "import sys\n",
    "import pandas as pd\n",
    "import matplotlib.pyplot as plt"
   ]
  },
  {
   "cell_type": "markdown",
   "id": "5b7d4aa9",
   "metadata": {},
   "source": [
    "## LOAD DF"
   ]
  },
  {
   "cell_type": "code",
   "execution_count": 4,
   "id": "335fabc1",
   "metadata": {},
   "outputs": [
    {
     "name": "stdout",
     "output_type": "stream",
     "text": [
      "CSV files found: ['Jakku.csv']\n"
     ]
    }
   ],
   "source": [
    "df_folder = \"../generated/dataframes/\"\n",
    "\n",
    "# Get the list of CSV files in the directory\n",
    "csv_files = [f for f in os.listdir(df_folder) if f.endswith('.csv')]\n",
    "print(\"CSV files found:\", csv_files)"
   ]
  },
  {
   "cell_type": "code",
   "execution_count": null,
   "id": "c966449e",
   "metadata": {},
   "outputs": [
    {
     "name": "stdout",
     "output_type": "stream",
     "text": [
      "Analyzing Jakku.csv with 195 rows\n",
      "  video_file_name  start_frame  end_frame game_mode        map  kill  deaths\n",
      "0           Jakku         1500      18540   loadout  game_menu    75       1\n",
      "1           Jakku        18990      45600   loadout       None    57       2\n"
     ]
    }
   ],
   "source": [
    "for csv_file in csv_files:\n",
    "    df = pd.read_csv(os.path.join(df_folder, csv_file))\n",
    "    print(f\"Analyzing {csv_file} with {len(df)} rows\")\n",
    "    # Remove duplicates\n",
    "    # Add missing events (death)\n",
    "    # Add class column\n",
    "    # Extract each game\n",
    "    "
   ]
  }
 ],
 "metadata": {
  "kernelspec": {
   "display_name": "projects",
   "language": "python",
   "name": "python3"
  },
  "language_info": {
   "codemirror_mode": {
    "name": "ipython",
    "version": 3
   },
   "file_extension": ".py",
   "mimetype": "text/x-python",
   "name": "python",
   "nbconvert_exporter": "python",
   "pygments_lexer": "ipython3",
   "version": "3.10.17"
  }
 },
 "nbformat": 4,
 "nbformat_minor": 5
}
